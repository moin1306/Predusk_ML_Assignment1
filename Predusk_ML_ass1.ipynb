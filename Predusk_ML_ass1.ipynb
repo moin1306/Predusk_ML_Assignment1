{
  "nbformat": 4,
  "nbformat_minor": 0,
  "metadata": {
    "colab": {
      "provenance": []
    },
    "kernelspec": {
      "name": "python3",
      "display_name": "Python 3"
    },
    "language_info": {
      "name": "python"
    }
  },
  "cells": [
    {
      "cell_type": "code",
      "execution_count": 2,
      "metadata": {
        "id": "JSWWCrV8L8CU"
      },
      "outputs": [],
      "source": [
        "# Basic Libraries\n",
        "import numpy as np\n",
        "import matplotlib.pyplot as plt\n",
        "import pandas as pd\n",
        "\n",
        "# PyTorch\n",
        "import torch\n",
        "\n",
        "\n",
        "# Scikit-learn for data\n",
        "import seaborn as sns\n",
        "from sklearn.model_selection import train_test_split\n",
        "from sklearn.preprocessing import StandardScaler"
      ]
    },
    {
      "cell_type": "code",
      "source": [],
      "metadata": {
        "id": "xKB11gMcPucm"
      },
      "execution_count": 2,
      "outputs": []
    },
    {
      "cell_type": "code",
      "source": [
        "# Load the dataset\n",
        "iris_data =pd.read_csv('/content/IRIS.csv')\n"
      ],
      "metadata": {
        "id": "OtQnWm3uNPY7"
      },
      "execution_count": 5,
      "outputs": []
    },
    {
      "cell_type": "code",
      "source": [
        "# Display first few rows\n",
        "iris_data.head()"
      ],
      "metadata": {
        "colab": {
          "base_uri": "https://localhost:8080/",
          "height": 206
        },
        "id": "2Ec66rZBPNdn",
        "outputId": "e844aa92-dacc-4053-adb5-18a2102fdc5c"
      },
      "execution_count": 6,
      "outputs": [
        {
          "output_type": "execute_result",
          "data": {
            "text/plain": [
              "   sepal_length  sepal_width  petal_length  petal_width      species\n",
              "0           5.1          3.5           1.4          0.2  Iris-setosa\n",
              "1           4.9          3.0           1.4          0.2  Iris-setosa\n",
              "2           4.7          3.2           1.3          0.2  Iris-setosa\n",
              "3           4.6          3.1           1.5          0.2  Iris-setosa\n",
              "4           5.0          3.6           1.4          0.2  Iris-setosa"
            ],
            "text/html": [
              "\n",
              "  <div id=\"df-b2b9e1ff-e2ac-496b-be9f-67be49ad3157\" class=\"colab-df-container\">\n",
              "    <div>\n",
              "<style scoped>\n",
              "    .dataframe tbody tr th:only-of-type {\n",
              "        vertical-align: middle;\n",
              "    }\n",
              "\n",
              "    .dataframe tbody tr th {\n",
              "        vertical-align: top;\n",
              "    }\n",
              "\n",
              "    .dataframe thead th {\n",
              "        text-align: right;\n",
              "    }\n",
              "</style>\n",
              "<table border=\"1\" class=\"dataframe\">\n",
              "  <thead>\n",
              "    <tr style=\"text-align: right;\">\n",
              "      <th></th>\n",
              "      <th>sepal_length</th>\n",
              "      <th>sepal_width</th>\n",
              "      <th>petal_length</th>\n",
              "      <th>petal_width</th>\n",
              "      <th>species</th>\n",
              "    </tr>\n",
              "  </thead>\n",
              "  <tbody>\n",
              "    <tr>\n",
              "      <th>0</th>\n",
              "      <td>5.1</td>\n",
              "      <td>3.5</td>\n",
              "      <td>1.4</td>\n",
              "      <td>0.2</td>\n",
              "      <td>Iris-setosa</td>\n",
              "    </tr>\n",
              "    <tr>\n",
              "      <th>1</th>\n",
              "      <td>4.9</td>\n",
              "      <td>3.0</td>\n",
              "      <td>1.4</td>\n",
              "      <td>0.2</td>\n",
              "      <td>Iris-setosa</td>\n",
              "    </tr>\n",
              "    <tr>\n",
              "      <th>2</th>\n",
              "      <td>4.7</td>\n",
              "      <td>3.2</td>\n",
              "      <td>1.3</td>\n",
              "      <td>0.2</td>\n",
              "      <td>Iris-setosa</td>\n",
              "    </tr>\n",
              "    <tr>\n",
              "      <th>3</th>\n",
              "      <td>4.6</td>\n",
              "      <td>3.1</td>\n",
              "      <td>1.5</td>\n",
              "      <td>0.2</td>\n",
              "      <td>Iris-setosa</td>\n",
              "    </tr>\n",
              "    <tr>\n",
              "      <th>4</th>\n",
              "      <td>5.0</td>\n",
              "      <td>3.6</td>\n",
              "      <td>1.4</td>\n",
              "      <td>0.2</td>\n",
              "      <td>Iris-setosa</td>\n",
              "    </tr>\n",
              "  </tbody>\n",
              "</table>\n",
              "</div>\n",
              "    <div class=\"colab-df-buttons\">\n",
              "\n",
              "  <div class=\"colab-df-container\">\n",
              "    <button class=\"colab-df-convert\" onclick=\"convertToInteractive('df-b2b9e1ff-e2ac-496b-be9f-67be49ad3157')\"\n",
              "            title=\"Convert this dataframe to an interactive table.\"\n",
              "            style=\"display:none;\">\n",
              "\n",
              "  <svg xmlns=\"http://www.w3.org/2000/svg\" height=\"24px\" viewBox=\"0 -960 960 960\">\n",
              "    <path d=\"M120-120v-720h720v720H120Zm60-500h600v-160H180v160Zm220 220h160v-160H400v160Zm0 220h160v-160H400v160ZM180-400h160v-160H180v160Zm440 0h160v-160H620v160ZM180-180h160v-160H180v160Zm440 0h160v-160H620v160Z\"/>\n",
              "  </svg>\n",
              "    </button>\n",
              "\n",
              "  <style>\n",
              "    .colab-df-container {\n",
              "      display:flex;\n",
              "      gap: 12px;\n",
              "    }\n",
              "\n",
              "    .colab-df-convert {\n",
              "      background-color: #E8F0FE;\n",
              "      border: none;\n",
              "      border-radius: 50%;\n",
              "      cursor: pointer;\n",
              "      display: none;\n",
              "      fill: #1967D2;\n",
              "      height: 32px;\n",
              "      padding: 0 0 0 0;\n",
              "      width: 32px;\n",
              "    }\n",
              "\n",
              "    .colab-df-convert:hover {\n",
              "      background-color: #E2EBFA;\n",
              "      box-shadow: 0px 1px 2px rgba(60, 64, 67, 0.3), 0px 1px 3px 1px rgba(60, 64, 67, 0.15);\n",
              "      fill: #174EA6;\n",
              "    }\n",
              "\n",
              "    .colab-df-buttons div {\n",
              "      margin-bottom: 4px;\n",
              "    }\n",
              "\n",
              "    [theme=dark] .colab-df-convert {\n",
              "      background-color: #3B4455;\n",
              "      fill: #D2E3FC;\n",
              "    }\n",
              "\n",
              "    [theme=dark] .colab-df-convert:hover {\n",
              "      background-color: #434B5C;\n",
              "      box-shadow: 0px 1px 3px 1px rgba(0, 0, 0, 0.15);\n",
              "      filter: drop-shadow(0px 1px 2px rgba(0, 0, 0, 0.3));\n",
              "      fill: #FFFFFF;\n",
              "    }\n",
              "  </style>\n",
              "\n",
              "    <script>\n",
              "      const buttonEl =\n",
              "        document.querySelector('#df-b2b9e1ff-e2ac-496b-be9f-67be49ad3157 button.colab-df-convert');\n",
              "      buttonEl.style.display =\n",
              "        google.colab.kernel.accessAllowed ? 'block' : 'none';\n",
              "\n",
              "      async function convertToInteractive(key) {\n",
              "        const element = document.querySelector('#df-b2b9e1ff-e2ac-496b-be9f-67be49ad3157');\n",
              "        const dataTable =\n",
              "          await google.colab.kernel.invokeFunction('convertToInteractive',\n",
              "                                                    [key], {});\n",
              "        if (!dataTable) return;\n",
              "\n",
              "        const docLinkHtml = 'Like what you see? Visit the ' +\n",
              "          '<a target=\"_blank\" href=https://colab.research.google.com/notebooks/data_table.ipynb>data table notebook</a>'\n",
              "          + ' to learn more about interactive tables.';\n",
              "        element.innerHTML = '';\n",
              "        dataTable['output_type'] = 'display_data';\n",
              "        await google.colab.output.renderOutput(dataTable, element);\n",
              "        const docLink = document.createElement('div');\n",
              "        docLink.innerHTML = docLinkHtml;\n",
              "        element.appendChild(docLink);\n",
              "      }\n",
              "    </script>\n",
              "  </div>\n",
              "\n",
              "\n",
              "    <div id=\"df-3f82a5ae-ca04-4911-bd54-b54301bad66a\">\n",
              "      <button class=\"colab-df-quickchart\" onclick=\"quickchart('df-3f82a5ae-ca04-4911-bd54-b54301bad66a')\"\n",
              "                title=\"Suggest charts\"\n",
              "                style=\"display:none;\">\n",
              "\n",
              "<svg xmlns=\"http://www.w3.org/2000/svg\" height=\"24px\"viewBox=\"0 0 24 24\"\n",
              "     width=\"24px\">\n",
              "    <g>\n",
              "        <path d=\"M19 3H5c-1.1 0-2 .9-2 2v14c0 1.1.9 2 2 2h14c1.1 0 2-.9 2-2V5c0-1.1-.9-2-2-2zM9 17H7v-7h2v7zm4 0h-2V7h2v10zm4 0h-2v-4h2v4z\"/>\n",
              "    </g>\n",
              "</svg>\n",
              "      </button>\n",
              "\n",
              "<style>\n",
              "  .colab-df-quickchart {\n",
              "      --bg-color: #E8F0FE;\n",
              "      --fill-color: #1967D2;\n",
              "      --hover-bg-color: #E2EBFA;\n",
              "      --hover-fill-color: #174EA6;\n",
              "      --disabled-fill-color: #AAA;\n",
              "      --disabled-bg-color: #DDD;\n",
              "  }\n",
              "\n",
              "  [theme=dark] .colab-df-quickchart {\n",
              "      --bg-color: #3B4455;\n",
              "      --fill-color: #D2E3FC;\n",
              "      --hover-bg-color: #434B5C;\n",
              "      --hover-fill-color: #FFFFFF;\n",
              "      --disabled-bg-color: #3B4455;\n",
              "      --disabled-fill-color: #666;\n",
              "  }\n",
              "\n",
              "  .colab-df-quickchart {\n",
              "    background-color: var(--bg-color);\n",
              "    border: none;\n",
              "    border-radius: 50%;\n",
              "    cursor: pointer;\n",
              "    display: none;\n",
              "    fill: var(--fill-color);\n",
              "    height: 32px;\n",
              "    padding: 0;\n",
              "    width: 32px;\n",
              "  }\n",
              "\n",
              "  .colab-df-quickchart:hover {\n",
              "    background-color: var(--hover-bg-color);\n",
              "    box-shadow: 0 1px 2px rgba(60, 64, 67, 0.3), 0 1px 3px 1px rgba(60, 64, 67, 0.15);\n",
              "    fill: var(--button-hover-fill-color);\n",
              "  }\n",
              "\n",
              "  .colab-df-quickchart-complete:disabled,\n",
              "  .colab-df-quickchart-complete:disabled:hover {\n",
              "    background-color: var(--disabled-bg-color);\n",
              "    fill: var(--disabled-fill-color);\n",
              "    box-shadow: none;\n",
              "  }\n",
              "\n",
              "  .colab-df-spinner {\n",
              "    border: 2px solid var(--fill-color);\n",
              "    border-color: transparent;\n",
              "    border-bottom-color: var(--fill-color);\n",
              "    animation:\n",
              "      spin 1s steps(1) infinite;\n",
              "  }\n",
              "\n",
              "  @keyframes spin {\n",
              "    0% {\n",
              "      border-color: transparent;\n",
              "      border-bottom-color: var(--fill-color);\n",
              "      border-left-color: var(--fill-color);\n",
              "    }\n",
              "    20% {\n",
              "      border-color: transparent;\n",
              "      border-left-color: var(--fill-color);\n",
              "      border-top-color: var(--fill-color);\n",
              "    }\n",
              "    30% {\n",
              "      border-color: transparent;\n",
              "      border-left-color: var(--fill-color);\n",
              "      border-top-color: var(--fill-color);\n",
              "      border-right-color: var(--fill-color);\n",
              "    }\n",
              "    40% {\n",
              "      border-color: transparent;\n",
              "      border-right-color: var(--fill-color);\n",
              "      border-top-color: var(--fill-color);\n",
              "    }\n",
              "    60% {\n",
              "      border-color: transparent;\n",
              "      border-right-color: var(--fill-color);\n",
              "    }\n",
              "    80% {\n",
              "      border-color: transparent;\n",
              "      border-right-color: var(--fill-color);\n",
              "      border-bottom-color: var(--fill-color);\n",
              "    }\n",
              "    90% {\n",
              "      border-color: transparent;\n",
              "      border-bottom-color: var(--fill-color);\n",
              "    }\n",
              "  }\n",
              "</style>\n",
              "\n",
              "      <script>\n",
              "        async function quickchart(key) {\n",
              "          const quickchartButtonEl =\n",
              "            document.querySelector('#' + key + ' button');\n",
              "          quickchartButtonEl.disabled = true;  // To prevent multiple clicks.\n",
              "          quickchartButtonEl.classList.add('colab-df-spinner');\n",
              "          try {\n",
              "            const charts = await google.colab.kernel.invokeFunction(\n",
              "                'suggestCharts', [key], {});\n",
              "          } catch (error) {\n",
              "            console.error('Error during call to suggestCharts:', error);\n",
              "          }\n",
              "          quickchartButtonEl.classList.remove('colab-df-spinner');\n",
              "          quickchartButtonEl.classList.add('colab-df-quickchart-complete');\n",
              "        }\n",
              "        (() => {\n",
              "          let quickchartButtonEl =\n",
              "            document.querySelector('#df-3f82a5ae-ca04-4911-bd54-b54301bad66a button');\n",
              "          quickchartButtonEl.style.display =\n",
              "            google.colab.kernel.accessAllowed ? 'block' : 'none';\n",
              "        })();\n",
              "      </script>\n",
              "    </div>\n",
              "\n",
              "    </div>\n",
              "  </div>\n"
            ],
            "application/vnd.google.colaboratory.intrinsic+json": {
              "type": "dataframe",
              "variable_name": "iris_data",
              "summary": "{\n  \"name\": \"iris_data\",\n  \"rows\": 150,\n  \"fields\": [\n    {\n      \"column\": \"sepal_length\",\n      \"properties\": {\n        \"dtype\": \"number\",\n        \"std\": 0.8280661279778629,\n        \"min\": 4.3,\n        \"max\": 7.9,\n        \"num_unique_values\": 35,\n        \"samples\": [\n          6.2,\n          4.5,\n          5.6\n        ],\n        \"semantic_type\": \"\",\n        \"description\": \"\"\n      }\n    },\n    {\n      \"column\": \"sepal_width\",\n      \"properties\": {\n        \"dtype\": \"number\",\n        \"std\": 0.4335943113621737,\n        \"min\": 2.0,\n        \"max\": 4.4,\n        \"num_unique_values\": 23,\n        \"samples\": [\n          2.3,\n          4.0,\n          3.5\n        ],\n        \"semantic_type\": \"\",\n        \"description\": \"\"\n      }\n    },\n    {\n      \"column\": \"petal_length\",\n      \"properties\": {\n        \"dtype\": \"number\",\n        \"std\": 1.7644204199522617,\n        \"min\": 1.0,\n        \"max\": 6.9,\n        \"num_unique_values\": 43,\n        \"samples\": [\n          6.7,\n          3.8,\n          3.7\n        ],\n        \"semantic_type\": \"\",\n        \"description\": \"\"\n      }\n    },\n    {\n      \"column\": \"petal_width\",\n      \"properties\": {\n        \"dtype\": \"number\",\n        \"std\": 0.7631607417008414,\n        \"min\": 0.1,\n        \"max\": 2.5,\n        \"num_unique_values\": 22,\n        \"samples\": [\n          0.2,\n          1.2,\n          1.3\n        ],\n        \"semantic_type\": \"\",\n        \"description\": \"\"\n      }\n    },\n    {\n      \"column\": \"species\",\n      \"properties\": {\n        \"dtype\": \"category\",\n        \"num_unique_values\": 3,\n        \"samples\": [\n          \"Iris-setosa\",\n          \"Iris-versicolor\",\n          \"Iris-virginica\"\n        ],\n        \"semantic_type\": \"\",\n        \"description\": \"\"\n      }\n    }\n  ]\n}"
            }
          },
          "metadata": {},
          "execution_count": 6
        }
      ]
    },
    {
      "cell_type": "code",
      "source": [
        "print(\"Shape of dataset:\", iris_data.shape)\n",
        "print(\"\\nData types:\\n\", iris_data.dtypes)"
      ],
      "metadata": {
        "id": "3ifcSoS1PNgO"
      },
      "execution_count": null,
      "outputs": []
    },
    {
      "cell_type": "code",
      "source": [
        "print(\"\\nMissing values per column:\\n\",iris_data.isnull().sum())\n",
        "print(\"\\n Total missing value in dataset is: \", iris_data.isnull().sum().sum())\n",
        "print(\"\\n total percentage of missing value: \", (iris_data.isnull().sum().sum()/len(iris_data))*100, \"%\")"
      ],
      "metadata": {
        "colab": {
          "base_uri": "https://localhost:8080/"
        },
        "id": "646ZhneUPNi5",
        "outputId": "1ae0c54e-9128-4cfc-9338-5f8524751724"
      },
      "execution_count": 7,
      "outputs": [
        {
          "output_type": "stream",
          "name": "stdout",
          "text": [
            "\n",
            "Missing values per column:\n",
            " sepal_length    0\n",
            "sepal_width     0\n",
            "petal_length    0\n",
            "petal_width     0\n",
            "species         0\n",
            "dtype: int64\n",
            "\n",
            " Total missing value in dataset is:  0\n",
            "\n",
            " total percentage of missing value:  0.0 %\n"
          ]
        }
      ]
    },
    {
      "cell_type": "code",
      "source": [],
      "metadata": {
        "id": "5Q02UJmBPNlF"
      },
      "execution_count": null,
      "outputs": []
    },
    {
      "cell_type": "code",
      "source": [
        "# Show the boxplot of speal length\n",
        "plt.figure(figsize=(10, 6))\n",
        "sns.boxplot(x=iris_data['sepal_length'])\n",
        "plt.title('Boxplot of sepal length')\n",
        "plt.xlabel('sepal length')\n",
        "plt.show()\n",
        "\n",
        "print(\"\\n No outlier for Speal length\")"
      ],
      "metadata": {
        "colab": {
          "base_uri": "https://localhost:8080/",
          "height": 482
        },
        "id": "3Tt0s1HGPNnq",
        "outputId": "23b01a28-eae2-4023-eb6c-5f6fa071dfe0"
      },
      "execution_count": 8,
      "outputs": [
        {
          "output_type": "display_data",
          "data": {
            "text/plain": [
              "<Figure size 1000x600 with 1 Axes>"
            ],
            "image/png": "[encoded data removed]"
          },
          "metadata": {}
        },
        {
          "output_type": "stream",
          "name": "stdout",
          "text": [
            "\n",
            " No outlier for Speal length\n"
          ]
        }
      ]
    },
    {
      "cell_type": "code",
      "source": [
        "# Show the boxplot of speal width\n",
        "plt.figure(figsize=(10, 6))\n",
        "sns.boxplot(x=iris_data['sepal_width'])\n",
        "plt.title('Boxplot of sepal width')\n",
        "plt.xlabel('sepal width')\n",
        "plt.show()\n",
        "\n",
        "\n",
        "# Calculate Q1 (25th percentile)\n",
        "Q1 = iris_data['sepal_width'].quantile(0.25)\n",
        "\n",
        "# Calculate Q3 (75th percentile)\n",
        "Q3 = iris_data['sepal_width'].quantile(0.75)\n",
        "# Calculate the Interquartile Range (IQR)\n",
        "IQR = Q3 - Q1\n",
        "\n",
        "# Define the upper and lower bounds for outlier detection\n",
        "# Outliers are typically defined as points outside Q1 - 1.5*IQR and Q3 + 1.5*IQR\n",
        "lower_bound = Q1 - 1.5 * IQR\n",
        "upper_bound = Q3 + 1.5 * IQR\n",
        "\n",
        "# Count the number of outliers\n",
        "# Outliers are values less than the lower_bound or greater than the upper_bound\n",
        "outliers = iris_data[(iris_data['sepal_width'] < lower_bound) | (iris_data['sepal_width'] > upper_bound)]\n",
        "num_outliers = len(outliers)\n",
        "\n",
        "print(f\"Number of outliers in 'sepal_width': {num_outliers}\")\n",
        "\n",
        "# Optionally, you can also print the outlier values\n",
        "if num_outliers > 0:\n",
        "    print(\"Outlier values:\")\n",
        "    print(outliers['sepal_width'])\n",
        "else:\n",
        "    print(\"No outliers found in 'sepal_width'.\")\n",
        "\n"
      ],
      "metadata": {
        "colab": {
          "base_uri": "https://localhost:8080/",
          "height": 566
        },
        "id": "TFkoPDolPNqR",
        "outputId": "3b80c769-65b5-4795-8465-524e370166f2"
      },
      "execution_count": 9,
      "outputs": [
        {
          "output_type": "display_data",
          "data": {
            "text/plain": [
              "<Figure size 1000x600 with 1 Axes>"
            ],
            "image/png": "[encoded data removed]"
          },
          "metadata": {}
        },
        {
          "output_type": "stream",
          "name": "stdout",
          "text": [
            "Number of outliers in 'sepal_width': 4\n",
            "Outlier values:\n",
            "15    4.4\n",
            "32    4.1\n",
            "33    4.2\n",
            "60    2.0\n",
            "Name: sepal_width, dtype: float64\n"
          ]
        }
      ]
    },
    {
      "cell_type": "code",
      "source": [
        "# Show the boxplot of petal length\n",
        "plt.figure(figsize=(10, 6))\n",
        "sns.boxplot(x=iris_data['petal_length'])\n",
        "plt.title('Boxplot of petal length')\n",
        "plt.xlabel('petal length')\n",
        "plt.show()\n",
        "\n",
        "print(\"\\n No outlier for petal length\")"
      ],
      "metadata": {
        "colab": {
          "base_uri": "https://localhost:8080/",
          "height": 482
        },
        "id": "JgXSFdBJRYvb",
        "outputId": "06718726-96f7-4f94-ec22-fdeb833cc3a7"
      },
      "execution_count": 10,
      "outputs": [
        {
          "output_type": "display_data",
          "data": {
            "text/plain": [
              "<Figure size 1000x600 with 1 Axes>"
            ],
            "image/png": "[encoded data removed]"
          },
          "metadata": {}
        },
        {
          "output_type": "stream",
          "name": "stdout",
          "text": [
            "\n",
            " No outlier for petal length\n"
          ]
        }
      ]
    },
    {
      "cell_type": "code",
      "source": [
        "# Show the boxplot of petal width\n",
        "plt.figure(figsize=(10, 6))\n",
        "sns.boxplot(x=iris_data['petal_width'])\n",
        "plt.title('Boxplot of petal width')\n",
        "plt.xlabel('petal width')\n",
        "plt.show()\n",
        "\n",
        "print(\"\\n No outlier for petal width\")"
      ],
      "metadata": {
        "colab": {
          "base_uri": "https://localhost:8080/",
          "height": 482
        },
        "id": "xAequCTWPNt1",
        "outputId": "2e63a0a0-7105-45c1-95b0-6b5319d3d7f6"
      },
      "execution_count": 11,
      "outputs": [
        {
          "output_type": "display_data",
          "data": {
            "text/plain": [
              "<Figure size 1000x600 with 1 Axes>"
            ],
            "image/png": "[encoded data removed]"
          },
          "metadata": {}
        },
        {
          "output_type": "stream",
          "name": "stdout",
          "text": [
            "\n",
            " No outlier for petal width\n"
          ]
        }
      ]
    },
    {
      "cell_type": "code",
      "source": [
        "from sklearn.preprocessing import LabelEncoder\n",
        "\n",
        "# Encode the 'species' column to numerical values\n",
        "label_encoder = LabelEncoder()\n",
        "iris_data['species'] = label_encoder.fit_transform(iris_data['species'])\n",
        "\n",
        "# Optional: see mapping\n",
        "label_map = dict(zip(label_encoder.classes_, label_encoder.transform(label_encoder.classes_)))\n",
        "print(\"Label mapping:\", label_map)\n"
      ],
      "metadata": {
        "colab": {
          "base_uri": "https://localhost:8080/"
        },
        "id": "4OsNRFRRPNyc",
        "outputId": "efcb5d6a-ddad-4600-d887-73a19d1a38da"
      },
      "execution_count": 12,
      "outputs": [
        {
          "output_type": "stream",
          "name": "stdout",
          "text": [
            "Label mapping: {'Iris-setosa': np.int64(0), 'Iris-versicolor': np.int64(1), 'Iris-virginica': np.int64(2)}\n"
          ]
        }
      ]
    },
    {
      "cell_type": "code",
      "source": [
        "# Separate features and labels\n",
        "X = iris_data.drop('species', axis=1).values\n",
        "y = iris_data['species'].values\n"
      ],
      "metadata": {
        "id": "12n_78o7jIjE"
      },
      "execution_count": 13,
      "outputs": []
    },
    {
      "cell_type": "code",
      "source": [
        "from sklearn.model_selection import train_test_split\n",
        "\n",
        "# 80% train, 20% test\n",
        "X_train, X_test, y_train, y_test = train_test_split(\n",
        "    X, y, test_size=0.2, random_state=42, stratify=y\n",
        ")\n"
      ],
      "metadata": {
        "id": "zbBYJ3uQjImF"
      },
      "execution_count": 14,
      "outputs": []
    },
    {
      "cell_type": "code",
      "source": [
        "from sklearn.preprocessing import StandardScaler\n",
        "\n",
        "scaler = StandardScaler()\n",
        "X_train = scaler.fit_transform(X_train)\n",
        "X_test = scaler.transform(X_test)\n"
      ],
      "metadata": {
        "id": "QmL7nN2FjIor"
      },
      "execution_count": 15,
      "outputs": []
    },
    {
      "cell_type": "code",
      "source": [
        "import torch\n",
        "\n",
        "X_train = torch.tensor(X_train, dtype=torch.float32)\n",
        "X_test = torch.tensor(X_test, dtype=torch.float32)\n",
        "y_train = torch.tensor(y_train, dtype=torch.long)\n",
        "y_test = torch.tensor(y_test, dtype=torch.long)\n"
      ],
      "metadata": {
        "id": "MzbYAx6pjIsx"
      },
      "execution_count": 16,
      "outputs": []
    },
    {
      "cell_type": "code",
      "source": [
        "import torch\n",
        "import torch.nn as nn\n",
        "\n",
        "# Set sizes\n",
        "input_size = 4       # 4 features in Iris\n",
        "hidden_size = 10    # hidden layer size\n",
        "output_size = 3      # 3 classes\n",
        "\n",
        "# Random weight initialization (requires_grad=True to enable training)\n",
        "W1 = torch.randn(input_size, hidden_size, requires_grad=True)\n",
        "b1 = torch.zeros(hidden_size, requires_grad=True)\n",
        "\n",
        "W2 = torch.randn(hidden_size, output_size, requires_grad=True)\n",
        "b2 = torch.zeros(output_size, requires_grad=True)\n",
        "\n",
        "# ReLU activation\n",
        "def relu(x):\n",
        "    return torch.maximum(x, torch.tensor(0.0))\n",
        "\n",
        "# Forward pass (manual)\n",
        "def forward(X):\n",
        "    z1 = X @ W1 + b1\n",
        "    a1 = relu(z1)\n",
        "    z2 = a1 @ W2 + b2\n",
        "    return z2  # logits, no softmax\n",
        "\n",
        "# Loss function\n",
        "loss_fn = nn.CrossEntropyLoss()\n",
        "\n",
        "# Training parameters\n",
        "epochs = 50\n",
        "learning_rate = 0.05\n",
        "train_accuracies = []\n",
        "test_accuracies = []\n",
        "\n",
        "# Training loop\n",
        "for epoch in range(epochs):\n",
        "    # --- Forward pass ---\n",
        "    logits = forward(X_train)\n",
        "\n",
        "    # --- Compute loss ---\n",
        "    loss = loss_fn(logits, y_train)\n",
        "\n",
        "    # --- Backward pass ---\n",
        "    loss.backward()\n",
        "\n",
        "    # --- Manual SGD update ---\n",
        "    with torch.no_grad():\n",
        "        W1 -= learning_rate * W1.grad\n",
        "        b1 -= learning_rate * b1.grad\n",
        "        W2 -= learning_rate * W2.grad\n",
        "        b2 -= learning_rate * b2.grad\n",
        "\n",
        "        # Zero gradients manually\n",
        "        W1.grad.zero_()\n",
        "        b1.grad.zero_()\n",
        "        W2.grad.zero_()\n",
        "        b2.grad.zero_()\n",
        "\n",
        "    # --- Accuracy calculation ---\n",
        "    with torch.no_grad():\n",
        "        train_preds = torch.argmax(forward(X_train), dim=1)\n",
        "        test_preds = torch.argmax(forward(X_test), dim=1)\n",
        "\n",
        "        train_acc = (train_preds == y_train).float().mean().item()\n",
        "        test_acc = (test_preds == y_test).float().mean().item()\n",
        "\n",
        "        train_accuracies.append(train_acc)\n",
        "        test_accuracies.append(test_acc)\n",
        "\n",
        "    # --- Print progress ---\n",
        "    print(f\"Epoch {epoch+1:02d}/{epochs} | Loss: {loss.item():.4f} | Train Acc: {train_acc:.4f} | Test Acc: {test_acc:.4f}\")\n"
      ],
      "metadata": {
        "colab": {
          "base_uri": "https://localhost:8080/"
        },
        "id": "VBH5ns42jIvX",
        "outputId": "3c44f6f3-7c01-4c57-ee53-201a30d78e41"
      },
      "execution_count": 17,
      "outputs": [
        {
          "output_type": "stream",
          "name": "stdout",
          "text": [
            "Epoch 01/50 | Loss: 3.5231 | Train Acc: 0.3333 | Test Acc: 0.1667\n",
            "Epoch 02/50 | Loss: 2.7044 | Train Acc: 0.3333 | Test Acc: 0.1667\n",
            "Epoch 03/50 | Loss: 1.9532 | Train Acc: 0.4250 | Test Acc: 0.2667\n",
            "Epoch 04/50 | Loss: 1.3487 | Train Acc: 0.5583 | Test Acc: 0.4667\n",
            "Epoch 05/50 | Loss: 1.0006 | Train Acc: 0.6417 | Test Acc: 0.5667\n",
            "Epoch 06/50 | Loss: 0.8483 | Train Acc: 0.6667 | Test Acc: 0.6000\n",
            "Epoch 07/50 | Loss: 0.7791 | Train Acc: 0.6917 | Test Acc: 0.6000\n",
            "Epoch 08/50 | Loss: 0.7399 | Train Acc: 0.7083 | Test Acc: 0.6000\n",
            "Epoch 09/50 | Loss: 0.7131 | Train Acc: 0.7333 | Test Acc: 0.6000\n",
            "Epoch 10/50 | Loss: 0.6923 | Train Acc: 0.7333 | Test Acc: 0.6333\n",
            "Epoch 11/50 | Loss: 0.6750 | Train Acc: 0.7333 | Test Acc: 0.6333\n",
            "Epoch 12/50 | Loss: 0.6599 | Train Acc: 0.7333 | Test Acc: 0.6333\n",
            "Epoch 13/50 | Loss: 0.6464 | Train Acc: 0.7250 | Test Acc: 0.6333\n",
            "Epoch 14/50 | Loss: 0.6339 | Train Acc: 0.7333 | Test Acc: 0.6333\n",
            "Epoch 15/50 | Loss: 0.6224 | Train Acc: 0.7333 | Test Acc: 0.6667\n",
            "Epoch 16/50 | Loss: 0.6117 | Train Acc: 0.7333 | Test Acc: 0.6667\n",
            "Epoch 17/50 | Loss: 0.6015 | Train Acc: 0.7333 | Test Acc: 0.6667\n",
            "Epoch 18/50 | Loss: 0.5915 | Train Acc: 0.7417 | Test Acc: 0.7000\n",
            "Epoch 19/50 | Loss: 0.5821 | Train Acc: 0.7417 | Test Acc: 0.7000\n",
            "Epoch 20/50 | Loss: 0.5729 | Train Acc: 0.7417 | Test Acc: 0.7000\n",
            "Epoch 21/50 | Loss: 0.5640 | Train Acc: 0.7417 | Test Acc: 0.7000\n",
            "Epoch 22/50 | Loss: 0.5554 | Train Acc: 0.7500 | Test Acc: 0.7000\n",
            "Epoch 23/50 | Loss: 0.5471 | Train Acc: 0.7500 | Test Acc: 0.7667\n",
            "Epoch 24/50 | Loss: 0.5392 | Train Acc: 0.7583 | Test Acc: 0.7667\n",
            "Epoch 25/50 | Loss: 0.5316 | Train Acc: 0.7667 | Test Acc: 0.7667\n",
            "Epoch 26/50 | Loss: 0.5243 | Train Acc: 0.7833 | Test Acc: 0.8000\n",
            "Epoch 27/50 | Loss: 0.5173 | Train Acc: 0.7833 | Test Acc: 0.8000\n",
            "Epoch 28/50 | Loss: 0.5103 | Train Acc: 0.7833 | Test Acc: 0.8000\n",
            "Epoch 29/50 | Loss: 0.5035 | Train Acc: 0.7833 | Test Acc: 0.8000\n",
            "Epoch 30/50 | Loss: 0.4969 | Train Acc: 0.7833 | Test Acc: 0.8000\n",
            "Epoch 31/50 | Loss: 0.4906 | Train Acc: 0.7833 | Test Acc: 0.8000\n",
            "Epoch 32/50 | Loss: 0.4844 | Train Acc: 0.7833 | Test Acc: 0.8000\n",
            "Epoch 33/50 | Loss: 0.4783 | Train Acc: 0.8000 | Test Acc: 0.8000\n",
            "Epoch 34/50 | Loss: 0.4724 | Train Acc: 0.8000 | Test Acc: 0.8000\n",
            "Epoch 35/50 | Loss: 0.4667 | Train Acc: 0.8083 | Test Acc: 0.8000\n",
            "Epoch 36/50 | Loss: 0.4608 | Train Acc: 0.8167 | Test Acc: 0.8000\n",
            "Epoch 37/50 | Loss: 0.4549 | Train Acc: 0.8167 | Test Acc: 0.8000\n",
            "Epoch 38/50 | Loss: 0.4491 | Train Acc: 0.8167 | Test Acc: 0.8000\n",
            "Epoch 39/50 | Loss: 0.4434 | Train Acc: 0.8250 | Test Acc: 0.8000\n",
            "Epoch 40/50 | Loss: 0.4379 | Train Acc: 0.8333 | Test Acc: 0.8000\n",
            "Epoch 41/50 | Loss: 0.4325 | Train Acc: 0.8333 | Test Acc: 0.8000\n",
            "Epoch 42/50 | Loss: 0.4273 | Train Acc: 0.8333 | Test Acc: 0.8000\n",
            "Epoch 43/50 | Loss: 0.4222 | Train Acc: 0.8417 | Test Acc: 0.8000\n",
            "Epoch 44/50 | Loss: 0.4172 | Train Acc: 0.8417 | Test Acc: 0.8000\n",
            "Epoch 45/50 | Loss: 0.4123 | Train Acc: 0.8417 | Test Acc: 0.8000\n",
            "Epoch 46/50 | Loss: 0.4076 | Train Acc: 0.8333 | Test Acc: 0.8000\n",
            "Epoch 47/50 | Loss: 0.4030 | Train Acc: 0.8417 | Test Acc: 0.8000\n",
            "Epoch 48/50 | Loss: 0.3986 | Train Acc: 0.8417 | Test Acc: 0.8000\n",
            "Epoch 49/50 | Loss: 0.3943 | Train Acc: 0.8417 | Test Acc: 0.8000\n",
            "Epoch 50/50 | Loss: 0.3900 | Train Acc: 0.8417 | Test Acc: 0.8000\n"
          ]
        }
      ]
    },
    {
      "cell_type": "code",
      "source": [
        "print(f\"\\n Final Train Accuracy: {train_accuracies[-1]*100:.2f}%\")\n",
        "print(f\" Final Test Accuracy : {test_accuracies[-1]*100:.2f}%\")\n"
      ],
      "metadata": {
        "colab": {
          "base_uri": "https://localhost:8080/"
        },
        "id": "ziEWvgL3jIy8",
        "outputId": "b57e8384-2302-4feb-92b5-96c70754842b"
      },
      "execution_count": 18,
      "outputs": [
        {
          "output_type": "stream",
          "name": "stdout",
          "text": [
            "\n",
            " Final Train Accuracy: 84.17%\n",
            " Final Test Accuracy : 80.00%\n"
          ]
        }
      ]
    },
    {
      "cell_type": "code",
      "source": [
        "import matplotlib.pyplot as plt\n",
        "\n",
        "epochs_range = range(1, len(train_accuracies) + 1)\n",
        "\n",
        "plt.figure(figsize=(10, 5))\n",
        "plt.plot(epochs_range, train_accuracies, label='Train Accuracy',color=\"green\", marker='o')\n",
        "plt.plot(epochs_range, test_accuracies, label='Test Accuracy',color=\"red\", marker='s')\n",
        "\n",
        "plt.xlabel(\"Epoch\")\n",
        "plt.ylabel(\"Accuracy\")\n",
        "plt.title(\"Train vs Test Accuracy over Epochs\")\n",
        "plt.legend()\n",
        "plt.grid(True)\n",
        "plt.tight_layout()\n",
        "plt.savefig(\"accuracy_epoc_plot.png\", dpi=300, bbox_inches='tight')\n",
        "plt.show()\n",
        "\n"
      ],
      "metadata": {
        "colab": {
          "base_uri": "https://localhost:8080/",
          "height": 328
        },
        "id": "7PQN8tkUmHNW",
        "outputId": "fb2a8cb2-6498-4f3f-c3a6-5abad6f1fa3a"
      },
      "execution_count": 20,
      "outputs": [
        {
          "output_type": "display_data",
          "data": {
            "text/plain": [
              "<Figure size 1000x500 with 1 Axes>"
            ],
            "image/png": "[encoded data removed]"
          },
          "metadata": {}
        }
      ]
    },
    {
      "cell_type": "code",
      "source": [],
      "metadata": {
        "id": "QAGFaVQpmHQs"
      },
      "execution_count": null,
      "outputs": []
    },
    {
      "cell_type": "code",
      "source": [],
      "metadata": {
        "id": "x-kzYCqPmHfh"
      },
      "execution_count": null,
      "outputs": []
    }
  ]
}